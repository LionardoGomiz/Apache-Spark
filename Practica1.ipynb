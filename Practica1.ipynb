{
  "nbformat": 4,
  "nbformat_minor": 0,
  "metadata": {
    "colab": {
      "provenance": [],
      "authorship_tag": "ABX9TyOQBVczcqn9ZzsNIm6oJw9C",
      "include_colab_link": true
    },
    "kernelspec": {
      "name": "python3",
      "display_name": "Python 3"
    },
    "language_info": {
      "name": "python"
    }
  },
  "cells": [
    {
      "cell_type": "markdown",
      "metadata": {
        "id": "view-in-github",
        "colab_type": "text"
      },
      "source": [
        "<a href=\"https://colab.research.google.com/github/LionardoGomiz/Apache-Spark/blob/master/Practica1.ipynb\" target=\"_parent\"><img src=\"https://colab.research.google.com/assets/colab-badge.svg\" alt=\"Open In Colab\"/></a>"
      ]
    },
    {
      "cell_type": "code",
      "source": [
        "#Descargar findspark\n",
        "!pip install -q findspark"
      ],
      "metadata": {
        "collapsed": true,
        "id": "ryMveiOqmre-"
      },
      "execution_count": null,
      "outputs": []
    },
    {
      "cell_type": "code",
      "source": [
        "#Descargar pyspark\n",
        "!pip install -q pyspark"
      ],
      "metadata": {
        "id": "TO_1k1JTm4-r"
      },
      "execution_count": null,
      "outputs": []
    },
    {
      "cell_type": "code",
      "source": [
        "\n",
        "# SparkSession\n",
        "import findspark\n",
        "# 'findspark': ayuda a que Python localice una instalación de Apache Spark\n",
        "# sin depender de variables de entorno ya configuradas. Útil en entornos locales/notebooks\n"
      ],
      "metadata": {
        "collapsed": true,
        "id": "XrgK6SiWm5K0"
      },
      "execution_count": null,
      "outputs": []
    },
    {
      "cell_type": "code",
      "execution_count": null,
      "metadata": {
        "id": "W5mNCW8rkzSn"
      },
      "outputs": [],
      "source": [
        "findspark.init()\n",
        "# 'init': configura sys.path y variables necesarias para que 'pyspark' pueda importarse correctamente\n",
        "# desde python (encuentra la carpeta de Spark y la agrega a la ruta)"
      ]
    },
    {
      "cell_type": "code",
      "source": [
        "from pyspark.sql import SparkSession\n",
        "# 'pyspark.sql' (paquete): submódulo de PySpark para trabajar con estructuras tabulares (DataFrame)\n",
        "# SparkSession (clase): puerta de entrada unificada a la API de Spark (SQL, DataFrames, lectura de datos, etc)\n"
      ],
      "metadata": {
        "id": "P4YjDN5-p21q"
      },
      "execution_count": null,
      "outputs": []
    },
    {
      "cell_type": "code",
      "source": [
        "spark = SparkSession.builder.master(\"local[*]\").appName(\"Curso PySpark\").getOrCreate()\n",
        "# - SparkSession.builder (patrón builder): Objeto configurador para crear/recuperar una sesión de spark\n",
        "# - master(\"local[*]\"):\n",
        "#    * 'master' define el \"cluster manager\" donde va a correr la app\n",
        "#    * \"local[*]\" indica ejecución usando todos los núcleos disponibles de la máquina\n",
        "#      (ej. si tenemos 8 cores, usará 8 hilos)\n",
        "# - appName(\"Curso PySpark\"):\n",
        "#    * Asigna un nombre legible a la aplicación; aparece en la UI de Spark y en los logs.\n",
        "# getOrCreate():\n",
        "# - Si ya existe una SparkSession activa con la misma configuracion, devuelve un (get)\n",
        "#- Si no existe, crea una nueva sesion (create)"
      ],
      "metadata": {
        "id": "06QcDdZKp5px"
      },
      "execution_count": null,
      "outputs": []
    },
    {
      "cell_type": "code",
      "source": [
        "spark"
      ],
      "metadata": {
        "id": "oCyPnufPsIRJ",
        "colab": {
          "base_uri": "https://localhost:8080/",
          "height": 219
        },
        "outputId": "d1015196-62b1-4584-b52e-d8869f2585c5"
      },
      "execution_count": null,
      "outputs": [
        {
          "output_type": "execute_result",
          "data": {
            "text/plain": [
              "<pyspark.sql.session.SparkSession at 0x7db10c45c6b0>"
            ],
            "text/html": [
              "\n",
              "            <div>\n",
              "                <p><b>SparkSession - in-memory</b></p>\n",
              "                \n",
              "        <div>\n",
              "            <p><b>SparkContext</b></p>\n",
              "\n",
              "            <p><a href=\"http://a18254bf2cd0:4040\">Spark UI</a></p>\n",
              "\n",
              "            <dl>\n",
              "              <dt>Version</dt>\n",
              "                <dd><code>v3.5.1</code></dd>\n",
              "              <dt>Master</dt>\n",
              "                <dd><code>local[*]</code></dd>\n",
              "              <dt>AppName</dt>\n",
              "                <dd><code>Curso PySpark</code></dd>\n",
              "            </dl>\n",
              "        </div>\n",
              "        \n",
              "            </div>\n",
              "        "
            ]
          },
          "metadata": {},
          "execution_count": 8
        }
      ]
    }
  ]
}