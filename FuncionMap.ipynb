{
  "nbformat": 4,
  "nbformat_minor": 0,
  "metadata": {
    "colab": {
      "provenance": [],
      "authorship_tag": "ABX9TyN3kaDMsmG1B8xLCFbwfzUd",
      "include_colab_link": true
    },
    "kernelspec": {
      "name": "python3",
      "display_name": "Python 3"
    },
    "language_info": {
      "name": "python"
    }
  },
  "cells": [
    {
      "cell_type": "markdown",
      "metadata": {
        "id": "view-in-github",
        "colab_type": "text"
      },
      "source": [
        "<a href=\"https://colab.research.google.com/github/LionardoGomiz/Apache-Spark/blob/L/FuncionMap.ipynb\" target=\"_parent\"><img src=\"https://colab.research.google.com/assets/colab-badge.svg\" alt=\"Open In Colab\"/></a>"
      ]
    },
    {
      "cell_type": "code",
      "execution_count": null,
      "metadata": {
        "id": "cGF2CXzzJSWA"
      },
      "outputs": [],
      "source": [
        "!pip install -q findspark"
      ]
    },
    {
      "cell_type": "code",
      "source": [
        "!pip install -q pyspark"
      ],
      "metadata": {
        "id": "N_uomFcdJbou"
      },
      "execution_count": null,
      "outputs": []
    },
    {
      "cell_type": "code",
      "source": [
        "import findspark\n",
        "findspark.init()\n",
        "\n",
        "from pyspark.sql import SparkSession\n",
        "\n",
        "spark = SparkSession.builder.getOrCreate()\n",
        "sc = spark.sparkContext"
      ],
      "metadata": {
        "id": "O0S_BxnhJkIg"
      },
      "execution_count": null,
      "outputs": []
    },
    {
      "cell_type": "code",
      "source": [
        "#Crear un RDD distribuyendo la lista lcal en particiones paralelas\n",
        "rdd = sc.parallelize([1,2,3,4,5])"
      ],
      "metadata": {
        "collapsed": true,
        "id": "A4UNB6OoKrs7"
      },
      "execution_count": null,
      "outputs": []
    },
    {
      "cell_type": "code",
      "source": [
        "rdd_resta = rdd.map(lambda x : x-1)\n",
        "rdd_resta.collect()"
      ],
      "metadata": {
        "colab": {
          "base_uri": "https://localhost:8080/"
        },
        "collapsed": true,
        "id": "DM5tGlYeLLOI",
        "outputId": "0c2b16c4-3d25-498c-c5f4-55f6eff67099"
      },
      "execution_count": null,
      "outputs": [
        {
          "output_type": "execute_result",
          "data": {
            "text/plain": [
              "[0, 1, 2, 3, 4]"
            ]
          },
          "metadata": {},
          "execution_count": 8
        }
      ]
    },
    {
      "cell_type": "code",
      "source": [
        "rdd__par = rdd.map(lambda x: x % 2 == 0)\n",
        "rdd__par.collect()"
      ],
      "metadata": {
        "colab": {
          "base_uri": "https://localhost:8080/"
        },
        "id": "uN20naNnLYqi",
        "outputId": "a80710f9-7f63-4d8e-df97-b4c1d6499d5a"
      },
      "execution_count": null,
      "outputs": [
        {
          "output_type": "execute_result",
          "data": {
            "text/plain": [
              "[False, True, False, True, False]"
            ]
          },
          "metadata": {},
          "execution_count": 9
        }
      ]
    },
    {
      "cell_type": "code",
      "source": [
        "#TODOS LOS NOMBRES EN MAYUSCULAS\n",
        "rdd_texto = sc.parallelize(['Carl','Jhonson','leidy'])\n",
        "rdd_mayusculas = rdd_texto.map(lambda x: x.upper())\n",
        "rdd_mayusculas.collect()"
      ],
      "metadata": {
        "colab": {
          "base_uri": "https://localhost:8080/"
        },
        "id": "4LONJkPENGiE",
        "outputId": "2f7984aa-3c3d-41cb-e471-75efbe3f834a"
      },
      "execution_count": null,
      "outputs": [
        {
          "output_type": "execute_result",
          "data": {
            "text/plain": [
              "['CARL', 'JHONSON', 'LEIDY']"
            ]
          },
          "metadata": {},
          "execution_count": 10
        }
      ]
    },
    {
      "cell_type": "code",
      "source": [
        "rdd_hola = rdd_texto.map(lambda x: 'Hola ' + x)\n",
        "rdd_hola.collect()"
      ],
      "metadata": {
        "colab": {
          "base_uri": "https://localhost:8080/"
        },
        "id": "IGi20bh1OruX",
        "outputId": "a7be1c8f-cef0-480a-ac16-9fc21c46e10e"
      },
      "execution_count": null,
      "outputs": [
        {
          "output_type": "execute_result",
          "data": {
            "text/plain": [
              "['Hola Carl', 'Hola Jhonson', 'Hola leidy']"
            ]
          },
          "metadata": {},
          "execution_count": 11
        }
      ]
    }
  ]
}