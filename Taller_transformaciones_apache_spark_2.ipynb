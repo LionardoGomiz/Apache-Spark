{
  "nbformat": 4,
  "nbformat_minor": 0,
  "metadata": {
    "colab": {
      "provenance": [],
      "authorship_tag": "ABX9TyMQ7AIehmqg05wHHkckICZX",
      "include_colab_link": true
    },
    "kernelspec": {
      "name": "python3",
      "display_name": "Python 3"
    },
    "language_info": {
      "name": "python"
    }
  },
  "cells": [
    {
      "cell_type": "markdown",
      "metadata": {
        "id": "view-in-github",
        "colab_type": "text"
      },
      "source": [
        "<a href=\"https://colab.research.google.com/github/LionardoGomiz/Apache-Spark/blob/master/Taller_transformaciones_apache_spark_2.ipynb\" target=\"_parent\"><img src=\"https://colab.research.google.com/assets/colab-badge.svg\" alt=\"Open In Colab\"/></a>"
      ]
    },
    {
      "cell_type": "code",
      "execution_count": 77,
      "metadata": {
        "id": "LxI4KaybS2dW"
      },
      "outputs": [],
      "source": [
        "!pip install -q findspark"
      ]
    },
    {
      "cell_type": "code",
      "source": [
        "!pip install -q pyspark"
      ],
      "metadata": {
        "id": "9m4_9zcxS9CK"
      },
      "execution_count": 78,
      "outputs": []
    },
    {
      "cell_type": "code",
      "source": [
        "import findspark\n",
        "import math\n",
        "findspark.init()\n",
        "\n",
        "from pyspark.sql import SparkSession\n",
        "\n",
        "spark = SparkSession.builder.getOrCreate()\n",
        "sc = spark.sparkContext"
      ],
      "metadata": {
        "id": "3bxVeYCmTc0e"
      },
      "execution_count": 79,
      "outputs": []
    },
    {
      "cell_type": "code",
      "source": [
        "#Cree un RDD llamado lenguajes que contenga los siguientes lenguajes de programación: Python, R, C, Scala, Rugby y SQL.\n",
        "lenguajes = sc.parallelize(['Python','R','C','Scala','Rugby ','SQL'])"
      ],
      "metadata": {
        "id": "9sbtDiHwTm1L"
      },
      "execution_count": 80,
      "outputs": []
    },
    {
      "cell_type": "code",
      "source": [
        "#Obtenga un nuevo RDD a partir del RDD lenguajes donde todos los lenguajes de programación estén en mayúsculas.\n",
        "rdd_mayuscula = lenguajes.map(lambda l: l.upper())"
      ],
      "metadata": {
        "id": "PDWwGdL_T8gw"
      },
      "execution_count": 81,
      "outputs": []
    },
    {
      "cell_type": "code",
      "source": [
        "rdd_mayuscula.collect()"
      ],
      "metadata": {
        "colab": {
          "base_uri": "https://localhost:8080/"
        },
        "id": "o8jqFe5YUP-c",
        "outputId": "8999c4d8-1b15-441d-c902-bdcd52366411"
      },
      "execution_count": 82,
      "outputs": [
        {
          "output_type": "execute_result",
          "data": {
            "text/plain": [
              "['PYTHON', 'R', 'C', 'SCALA', 'RUGBY ', 'SQL']"
            ]
          },
          "metadata": {},
          "execution_count": 82
        }
      ]
    },
    {
      "cell_type": "code",
      "source": [
        "#Obtenga un nuevo RDD a partir del RDD lenguajes donde todos los lenguajes de programación estén en minúsculas.\n",
        "rdd_minuscula = lenguajes.map(lambda x :x.lower())"
      ],
      "metadata": {
        "id": "V4nD4zV0UpV4"
      },
      "execution_count": 83,
      "outputs": []
    },
    {
      "cell_type": "code",
      "source": [
        "rdd_minuscula.collect()"
      ],
      "metadata": {
        "colab": {
          "base_uri": "https://localhost:8080/"
        },
        "id": "pcpp_-0hVCL-",
        "outputId": "f1da8167-9693-4506-ae50-c5f83437c33a"
      },
      "execution_count": 84,
      "outputs": [
        {
          "output_type": "execute_result",
          "data": {
            "text/plain": [
              "['python', 'r', 'c', 'scala', 'rugby ', 'sql']"
            ]
          },
          "metadata": {},
          "execution_count": 84
        }
      ]
    },
    {
      "cell_type": "code",
      "source": [
        "#Cree un nuevo RDD que solo contenga aquellos lenguajes de programación que comiencen con la letra R.\n",
        "rdd_r = lenguajes.filter(lambda z: z.startswith('R'))\n",
        "rdd_r.collect()"
      ],
      "metadata": {
        "colab": {
          "base_uri": "https://localhost:8080/"
        },
        "id": "W-8mMINljwRR",
        "outputId": "14baa089-733c-4606-ec19-a967f12c1b59"
      },
      "execution_count": 85,
      "outputs": [
        {
          "output_type": "execute_result",
          "data": {
            "text/plain": [
              "['R', 'Rugby ']"
            ]
          },
          "metadata": {},
          "execution_count": 85
        }
      ]
    },
    {
      "cell_type": "code",
      "source": [
        "#Cree un RDD llamado lenguajes que contenga los siguientes lenguajes de programación: Python, R, C, Scala, Rugby y SQL.\n",
        "rdd = sc.parallelize((50, 51, 52, 53, 54, 55, 56, 57, 58, 59, 60))\n"
      ],
      "metadata": {
        "id": "FCie2vRAogVc"
      },
      "execution_count": 161,
      "outputs": []
    },
    {
      "cell_type": "code",
      "source": [
        "rdd_par = rdd.filter(lambda x: x % 2 == 0)\n"
      ],
      "metadata": {
        "collapsed": true,
        "id": "V_10LZpCsTWz"
      },
      "execution_count": 163,
      "outputs": []
    },
    {
      "cell_type": "code",
      "source": [
        "sqrt = rdd_par.map(lambda x: math.sqrt(x))\n"
      ],
      "metadata": {
        "collapsed": true,
        "id": "i87xYrCFsjj8"
      },
      "execution_count": 164,
      "outputs": []
    },
    {
      "cell_type": "code",
      "source": [
        "resultado = rdd_par.zip(sqrt).flatMap(lambda x: x).collect()\n",
        "print(resultado)\n"
      ],
      "metadata": {
        "colab": {
          "base_uri": "https://localhost:8080/"
        },
        "id": "3MeYrIDk3BQz",
        "outputId": "5b3b37b0-1c32-4b44-becc-81cbea701fff"
      },
      "execution_count": 167,
      "outputs": [
        {
          "output_type": "stream",
          "name": "stdout",
          "text": [
            "[50, 7.0710678118654755, 52, 7.211102550927978, 54, 7.3484692283495345, 56, 7.483314773547883, 58, 7.615773105863909, 60, 7.745966692414834]\n"
          ]
        }
      ]
    },
    {
      "cell_type": "code",
      "source": [
        "rdd = sc.parallelize(range(20, 31))"
      ],
      "metadata": {
        "id": "GJP9NPHx4T0w"
      },
      "execution_count": 149,
      "outputs": []
    },
    {
      "cell_type": "code",
      "source": [
        "rdd_par = rdd.filter(lambda p: p % 2 == 0)"
      ],
      "metadata": {
        "id": "qwxuI3Xm4V3N"
      },
      "execution_count": 150,
      "outputs": []
    },
    {
      "cell_type": "code",
      "source": [
        "sqrt = rdd_par.map(lambda p: math.sqrt(p))"
      ],
      "metadata": {
        "id": "qQLzvQDd4Xug"
      },
      "execution_count": 151,
      "outputs": []
    },
    {
      "cell_type": "code",
      "source": [
        "\n",
        "resultado = rdd_par.flatMap(lambda x: [x, math.sqrt(x)]).collect()\n",
        "print(resultado)\n"
      ],
      "metadata": {
        "colab": {
          "base_uri": "https://localhost:8080/"
        },
        "id": "qU-zD7BK4Zt1",
        "outputId": "501b070f-2c3e-4a50-c684-05815ad9ad05"
      },
      "execution_count": 152,
      "outputs": [
        {
          "output_type": "stream",
          "name": "stdout",
          "text": [
            "[20, 4.47213595499958, 22, 4.69041575982343, 24, 4.898979485566356, 26, 5.0990195135927845, 28, 5.291502622129181, 30, 5.477225575051661]\n"
          ]
        }
      ]
    }
  ]
}