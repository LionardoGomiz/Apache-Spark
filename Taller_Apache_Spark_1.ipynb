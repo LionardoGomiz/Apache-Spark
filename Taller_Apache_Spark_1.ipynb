{
  "nbformat": 4,
  "nbformat_minor": 0,
  "metadata": {
    "colab": {
      "provenance": [],
      "authorship_tag": "ABX9TyO6cNAvfSc8UrAa5RTCsVmc",
      "include_colab_link": true
    },
    "kernelspec": {
      "name": "python3",
      "display_name": "Python 3"
    },
    "language_info": {
      "name": "python"
    }
  },
  "cells": [
    {
      "cell_type": "markdown",
      "metadata": {
        "id": "view-in-github",
        "colab_type": "text"
      },
      "source": [
        "<a href=\"https://colab.research.google.com/github/LionardoGomiz/Apache-Spark/blob/master/Taller_Apache_Spark_1.ipynb\" target=\"_parent\"><img src=\"https://colab.research.google.com/assets/colab-badge.svg\" alt=\"Open In Colab\"/></a>"
      ]
    },
    {
      "cell_type": "code",
      "execution_count": 6,
      "metadata": {
        "id": "skJtK2H1wrML"
      },
      "outputs": [],
      "source": [
        "!pip install -q findspark"
      ]
    },
    {
      "cell_type": "code",
      "source": [
        "!pip install -q pyspark"
      ],
      "metadata": {
        "id": "psgAmNjrwzBK"
      },
      "execution_count": 7,
      "outputs": []
    },
    {
      "cell_type": "code",
      "source": [
        "import findspark\n",
        "\n",
        "findspark.init()\n",
        "\n",
        "from pyspark.sql import SparkSession\n",
        "\n",
        "Cap2 = SparkSession.builder.getOrCreate()\n"
      ],
      "metadata": {
        "id": "ASA_THKOwzMY"
      },
      "execution_count": 8,
      "outputs": []
    },
    {
      "cell_type": "code",
      "source": [
        "#Cree una sesión de Spark con nombre Cap2\n",
        "sc = Cap2.sparkContext"
      ],
      "metadata": {
        "id": "WPj1E0VayQPo"
      },
      "execution_count": 9,
      "outputs": []
    },
    {
      "cell_type": "code",
      "source": [
        "#Crear un primer RDD vacío sin particiones\n",
        "rdd_vacio1 = sc.emptyRDD()"
      ],
      "metadata": {
        "id": "K6OiD2Rk3376"
      },
      "execution_count": 51,
      "outputs": []
    },
    {
      "cell_type": "code",
      "source": [
        "rdd_vacio2 = sc.parallelize([],5)"
      ],
      "metadata": {
        "id": "Nq4D9BjnoABf"
      },
      "execution_count": 52,
      "outputs": []
    },
    {
      "cell_type": "code",
      "source": [
        "# Crear un segundo RDD vacío\n",
        "rdd_vacio2.getNumPartitions()\n"
      ],
      "metadata": {
        "id": "tSyDf5vS4OVt",
        "colab": {
          "base_uri": "https://localhost:8080/"
        },
        "outputId": "d86c3f30-170d-4c75-cf8f-2e39cdd168a1"
      },
      "execution_count": 53,
      "outputs": [
        {
          "output_type": "execute_result",
          "data": {
            "text/plain": [
              "5"
            ]
          },
          "metadata": {},
          "execution_count": 53
        }
      ]
    },
    {
      "cell_type": "code",
      "source": [
        "#Cree un RDD que contenga los números primos que hay entre 1 y 20.\n",
        "numeros_primos = sc.parallelize([1,2,3,4,5,6,7,8,9,10,11,12,13,14,15,16,17,18,19,20])\n",
        "numeros_primos.collect()"
      ],
      "metadata": {
        "colab": {
          "base_uri": "https://localhost:8080/"
        },
        "id": "Lm7NN0IS51yi",
        "outputId": "28e6e001-a967-4356-ee99-0b278711a683"
      },
      "execution_count": 59,
      "outputs": [
        {
          "output_type": "execute_result",
          "data": {
            "text/plain": [
              "[1, 2, 3, 4, 5, 6, 7, 8, 9, 10, 11, 12, 13, 14, 15, 16, 17, 18, 19, 20]"
            ]
          },
          "metadata": {},
          "execution_count": 59
        }
      ]
    },
    {
      "cell_type": "code",
      "source": [
        "#Cree un RDD que contenga los números primos que hay entre 1 y 20.\n",
        "rdd_primos = numeros_primos.filter(\n",
        "    lambda x: x > 1 and all(x % i != 0 for i in range(2, int(x**0.5) + 1))\n",
        ")"
      ],
      "metadata": {
        "id": "ofIUO-GPD5Cs"
      },
      "execution_count": 56,
      "outputs": []
    },
    {
      "cell_type": "code",
      "source": [
        "rdd_primos.collect()"
      ],
      "metadata": {
        "colab": {
          "base_uri": "https://localhost:8080/"
        },
        "id": "U-d6g1mcD5LL",
        "outputId": "645fb491-8c74-4a7e-aaed-9947e12c2d43"
      },
      "execution_count": 57,
      "outputs": [
        {
          "output_type": "execute_result",
          "data": {
            "text/plain": [
              "[2, 3, 5, 7, 11, 13, 17, 19]"
            ]
          },
          "metadata": {},
          "execution_count": 57
        }
      ]
    },
    {
      "cell_type": "code",
      "source": [
        "#Cree un nuevo RDD a partir del RDD creado en el ejercicio anterior el cuál solo contenga los números primos mayores a 10\n",
        "rdd_numeros_primos_mayores = rdd_primos.filter(lambda x: x > 10)"
      ],
      "metadata": {
        "id": "oNnmp6rGGYYo"
      },
      "execution_count": 40,
      "outputs": []
    },
    {
      "cell_type": "code",
      "source": [
        "rdd_numeros_primos_mayores.collect()"
      ],
      "metadata": {
        "colab": {
          "base_uri": "https://localhost:8080/"
        },
        "id": "6URW8l2jwKFl",
        "outputId": "a620b0d6-2d86-4bc3-da82-e790ab177c85"
      },
      "execution_count": 58,
      "outputs": [
        {
          "output_type": "execute_result",
          "data": {
            "text/plain": [
              "[11, 13, 17, 19]"
            ]
          },
          "metadata": {},
          "execution_count": 58
        }
      ]
    }
  ]
}