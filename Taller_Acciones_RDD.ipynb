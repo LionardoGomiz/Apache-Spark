{
  "nbformat": 4,
  "nbformat_minor": 0,
  "metadata": {
    "colab": {
      "provenance": [],
      "authorship_tag": "ABX9TyOV0AnONx2RvabynanTacqH",
      "include_colab_link": true
    },
    "kernelspec": {
      "name": "python3",
      "display_name": "Python 3"
    },
    "language_info": {
      "name": "python"
    }
  },
  "cells": [
    {
      "cell_type": "markdown",
      "metadata": {
        "id": "view-in-github",
        "colab_type": "text"
      },
      "source": [
        "<a href=\"https://colab.research.google.com/github/LionardoGomiz/Apache-Spark/blob/master/Taller_Acciones_RDD.ipynb\" target=\"_parent\"><img src=\"https://colab.research.google.com/assets/colab-badge.svg\" alt=\"Open In Colab\"/></a>"
      ]
    },
    {
      "cell_type": "code",
      "execution_count": 3,
      "metadata": {
        "id": "KCfGkZkxLvbl"
      },
      "outputs": [],
      "source": [
        "!pip install -q findspark"
      ]
    },
    {
      "cell_type": "code",
      "source": [
        "!pip install -q pyspark"
      ],
      "metadata": {
        "id": "HfpOIL3ZMY3f"
      },
      "execution_count": 4,
      "outputs": []
    },
    {
      "cell_type": "code",
      "source": [
        "import findspark\n",
        "\n",
        "findspark.init()\n",
        "\n",
        "from pyspark.sql import SparkSession\n",
        "\n",
        "spark = SparkSession.builder.getOrCreate()\n",
        "\n",
        "sc = spark.sparkContext"
      ],
      "metadata": {
        "id": "fZeRTa6BMirD"
      },
      "execution_count": 5,
      "outputs": []
    },
    {
      "cell_type": "markdown",
      "source": [
        "1. Cree un RDD llamado importes a partir del archivo adjunto como recurso."
      ],
      "metadata": {
        "id": "AG6b70PIP6GC"
      }
    },
    {
      "cell_type": "code",
      "source": [
        "importes = sc.parallelize([70, 69, 16, 80, 85, 81, 93, 5, 78, 21, 13, 77, 93, 31, 16, 84, 64, 29, 45, 24, 64, 31, 2, 55, 51, 92, 72, 84, 22, 50, 17, 5, 96, 63, 67, 82, 52, 38, 86, 23, 90, 96, 53, 95, 10, 28, 75, 72, 67, 82, 40, 60, 34, 26, 47, 55, 10, 46, 86, 46, 64, 37, 31, 43, 74, 44, 87, 7, 54, 95, 43, 79, 79, 53, 62, 13, 37, 45, 40, 81, 50, 41, 30, 81, 27, 27, 49, 97, 73, 99, 77, 64, 47, 68, 8, 79, 13, 49, 75, 2, 23, 94, 21, 2, 10, 9, 19, 75, 7, 27, 55, 38, 10, 39, 73, 21, 81, 1, 61, 62, 5, 91, 68, 35, 81, 91, 34, 24, 63, 61, 32, 11, 74, 43, 98, 18, 25, 33, 31, 32, 42, 97, 11, 28, 14, 49, 34, 78, 50, 76, 25, 79, 61, 15, 57, 60, 61, 52, 94, 32, 30, 71, 16, 32, 26, 30, 42, 36, 45, 1, 91, 47, 19, 43, 71, 41, 95, 12, 64, 95, 51, 39, 55, 99, 12, 98, 97, 37, 25, 45, 36, 13, 63, 81, 16, 56, 33, 61, 31, 39, 84, 30, 97, 37, 29, 94, 76, 39, 62, 12, 97, 90, 50, 85, 25, 28, 35, 63, 25, 56, 43, 18, 57, 20, 62, 51, 63, 27, 82, 71, 24, 7, 70])\n"
      ],
      "metadata": {
        "id": "UcaVLawZV9lH"
      },
      "execution_count": 6,
      "outputs": []
    },
    {
      "cell_type": "markdown",
      "source": [
        "a. ¿Cuántos registros tiene el RDD importes?"
      ],
      "metadata": {
        "id": "JAo6xrI0R8q7"
      }
    },
    {
      "cell_type": "code",
      "source": [
        "importes.count()\n"
      ],
      "metadata": {
        "colab": {
          "base_uri": "https://localhost:8080/"
        },
        "id": "vu4lPAaVWwGw",
        "outputId": "9d07a107-f925-4127-9c47-d9a920929a19"
      },
      "execution_count": 35,
      "outputs": [
        {
          "output_type": "execute_result",
          "data": {
            "text/plain": [
              "233"
            ]
          },
          "metadata": {},
          "execution_count": 35
        }
      ]
    },
    {
      "cell_type": "markdown",
      "source": [
        "b. ¿Cuál es el valor mínimo y máximo del RDD importes?"
      ],
      "metadata": {
        "id": "xZkHo6ORSqik"
      }
    },
    {
      "cell_type": "code",
      "source": [
        "minimo = importes.min()\n",
        "maximo = importes.max()\n",
        "\n",
        "print(\"Valor mínimo del RDD importes:\", minimo)\n",
        "print(\"Valor máximo del RDD importes:\", maximo)"
      ],
      "metadata": {
        "id": "viT4qUCUW4lk",
        "colab": {
          "base_uri": "https://localhost:8080/"
        },
        "outputId": "d1003ace-271e-4217-f194-374d8d1195ec"
      },
      "execution_count": 25,
      "outputs": [
        {
          "output_type": "stream",
          "name": "stdout",
          "text": [
            "Valor mínimo del RDD importes: 1\n",
            "Valor máximo del RDD importes: 99\n"
          ]
        }
      ]
    },
    {
      "cell_type": "markdown",
      "source": [
        "C. Cree un RDD top15 que contenga los 15 mayores valores del RDD importes"
      ],
      "metadata": {
        "id": "2BsMFOHmasIp"
      }
    },
    {
      "cell_type": "code",
      "source": [
        "top15 = sc.parallelize(importes.top(15))"
      ],
      "metadata": {
        "id": "gbXZURcWXPV4"
      },
      "execution_count": 33,
      "outputs": []
    },
    {
      "cell_type": "code",
      "source": [
        "top15.collect()"
      ],
      "metadata": {
        "colab": {
          "base_uri": "https://localhost:8080/"
        },
        "id": "Whsaxk-jTpoy",
        "outputId": "a46dcd21-9cb3-4f63-d03c-371b38e831b4"
      },
      "execution_count": 34,
      "outputs": [
        {
          "output_type": "execute_result",
          "data": {
            "text/plain": [
              "[99, 99, 98, 98, 97, 97, 97, 97, 97, 96, 96, 95, 95, 95, 95]"
            ]
          },
          "metadata": {},
          "execution_count": 34
        }
      ]
    }
  ]
}