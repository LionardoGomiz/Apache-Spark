{
  "nbformat": 4,
  "nbformat_minor": 0,
  "metadata": {
    "colab": {
      "provenance": [],
      "authorship_tag": "ABX9TyOSN7MdmG/lujCPYSQWXVKf",
      "include_colab_link": true
    },
    "kernelspec": {
      "name": "python3",
      "display_name": "Python 3"
    },
    "language_info": {
      "name": "python"
    }
  },
  "cells": [
    {
      "cell_type": "markdown",
      "metadata": {
        "id": "view-in-github",
        "colab_type": "text"
      },
      "source": [
        "<a href=\"https://colab.research.google.com/github/LionardoGomiz/Apache-Spark/blob/master/Taller_Acciones_RDD.ipynb\" target=\"_parent\"><img src=\"https://colab.research.google.com/assets/colab-badge.svg\" alt=\"Open In Colab\"/></a>"
      ]
    },
    {
      "cell_type": "code",
      "execution_count": 24,
      "metadata": {
        "id": "KCfGkZkxLvbl"
      },
      "outputs": [],
      "source": [
        "!pip install -q findspark"
      ]
    },
    {
      "cell_type": "code",
      "source": [
        "!pip install -q pyspark"
      ],
      "metadata": {
        "id": "HfpOIL3ZMY3f"
      },
      "execution_count": 25,
      "outputs": []
    },
    {
      "cell_type": "code",
      "source": [
        "import findspark\n",
        "import shutil\n",
        "\n",
        "findspark.init()\n",
        "\n",
        "from pyspark.sql import SparkSession\n",
        "\n",
        "spark = SparkSession.builder.getOrCreate()\n",
        "\n",
        "sc = spark.sparkContext"
      ],
      "metadata": {
        "id": "fZeRTa6BMirD"
      },
      "execution_count": 26,
      "outputs": []
    },
    {
      "cell_type": "markdown",
      "source": [
        "1. Cree un RDD llamado importes a partir del archivo adjunto como recurso."
      ],
      "metadata": {
        "id": "AG6b70PIP6GC"
      }
    },
    {
      "cell_type": "code",
      "source": [
        "importes = sc.parallelize([70, 69, 16, 80, 85, 81, 93, 5, 78, 21, 13, 77, 93, 31, 16, 84, 64, 29, 45, 24, 64, 31, 2, 55, 51, 92, 72, 84, 22, 50, 17, 5, 96, 63, 67, 82, 52, 38, 86, 23, 90, 96, 53, 95, 10, 28, 75, 72, 67, 82, 40, 60, 34, 26, 47, 55, 10, 46, 86, 46, 64, 37, 31, 43, 74, 44, 87, 7, 54, 95, 43, 79, 79, 53, 62, 13, 37, 45, 40, 81, 50, 41, 30, 81, 27, 27, 49, 97, 73, 99, 77, 64, 47, 68, 8, 79, 13, 49, 75, 2, 23, 94, 21, 2, 10, 9, 19, 75, 7, 27, 55, 38, 10, 39, 73, 21, 81, 1, 61, 62, 5, 91, 68, 35, 81, 91, 34, 24, 63, 61, 32, 11, 74, 43, 98, 18, 25, 33, 31, 32, 42, 97, 11, 28, 14, 49, 34, 78, 50, 76, 25, 79, 61, 15, 57, 60, 61, 52, 94, 32, 30, 71, 16, 32, 26, 30, 42, 36, 45, 1, 91, 47, 19, 43, 71, 41, 95, 12, 64, 95, 51, 39, 55, 99, 12, 98, 97, 37, 25, 45, 36, 13, 63, 81, 16, 56, 33, 61, 31, 39, 84, 30, 97, 37, 29, 94, 76, 39, 62, 12, 97, 90, 50, 85, 25, 28, 35, 63, 25, 56, 43, 18, 57, 20, 62, 51, 63, 27, 82, 71, 24, 7, 70])\n"
      ],
      "metadata": {
        "id": "UcaVLawZV9lH"
      },
      "execution_count": 27,
      "outputs": []
    },
    {
      "cell_type": "markdown",
      "source": [
        "a. ¿Cuántos registros tiene el RDD importes?"
      ],
      "metadata": {
        "id": "JAo6xrI0R8q7"
      }
    },
    {
      "cell_type": "code",
      "source": [
        "importes.count()\n"
      ],
      "metadata": {
        "colab": {
          "base_uri": "https://localhost:8080/"
        },
        "id": "vu4lPAaVWwGw",
        "outputId": "ab7acada-3227-4af3-b6af-718b5d970141"
      },
      "execution_count": 28,
      "outputs": [
        {
          "output_type": "execute_result",
          "data": {
            "text/plain": [
              "233"
            ]
          },
          "metadata": {},
          "execution_count": 28
        }
      ]
    },
    {
      "cell_type": "markdown",
      "source": [
        "b. ¿Cuál es el valor mínimo y máximo del RDD importes?"
      ],
      "metadata": {
        "id": "xZkHo6ORSqik"
      }
    },
    {
      "cell_type": "code",
      "source": [
        "minimo = importes.min()\n",
        "maximo = importes.max()\n",
        "\n",
        "print(\"Valor mínimo del RDD importes:\", minimo)\n",
        "print(\"Valor máximo del RDD importes:\", maximo)"
      ],
      "metadata": {
        "id": "viT4qUCUW4lk",
        "colab": {
          "base_uri": "https://localhost:8080/"
        },
        "outputId": "fc582934-aec9-4a9a-b353-bdbe20b04715"
      },
      "execution_count": 29,
      "outputs": [
        {
          "output_type": "stream",
          "name": "stdout",
          "text": [
            "Valor mínimo del RDD importes: 1\n",
            "Valor máximo del RDD importes: 99\n"
          ]
        }
      ]
    },
    {
      "cell_type": "markdown",
      "source": [
        "C. Cree un RDD top15 que contenga los 15 mayores valores del RDD importes"
      ],
      "metadata": {
        "id": "2BsMFOHmasIp"
      }
    },
    {
      "cell_type": "code",
      "source": [
        "top15 = sc.parallelize(importes.top(15))"
      ],
      "metadata": {
        "id": "gbXZURcWXPV4"
      },
      "execution_count": 30,
      "outputs": []
    },
    {
      "cell_type": "code",
      "source": [
        "top15.collect()"
      ],
      "metadata": {
        "colab": {
          "base_uri": "https://localhost:8080/"
        },
        "id": "Whsaxk-jTpoy",
        "outputId": "6b22bc7b-6ac2-492d-a38b-b8231aa1868c"
      },
      "execution_count": 31,
      "outputs": [
        {
          "output_type": "execute_result",
          "data": {
            "text/plain": [
              "[99, 99, 98, 98, 97, 97, 97, 97, 97, 96, 96, 95, 95, 95, 95]"
            ]
          },
          "metadata": {},
          "execution_count": 31
        }
      ]
    },
    {
      "cell_type": "markdown",
      "source": [
        "#D. RDD top15 como archivo de texto en la carpeta data/salida."
      ],
      "metadata": {
        "id": "xXAqviGalWnf"
      }
    },
    {
      "cell_type": "code",
      "source": [
        "top15.saveAsTextFile(\"data/salida\")\n"
      ],
      "metadata": {
        "id": "z4U1xQpbQk1_"
      },
      "execution_count": null,
      "outputs": []
    },
    {
      "cell_type": "markdown",
      "source": [
        "#2. Cree una función llamada factorial que calcule el factorial de un número dado como parámetro. Utilice RDDs para el cálculo."
      ],
      "metadata": {
        "id": "dFsJVr2jmTg-"
      }
    },
    {
      "cell_type": "code",
      "source": [
        "def factorial(n):\n",
        "    numeros = sc.parallelize(range(1, n + 1))\n",
        "\n",
        "    resultado = numeros.reduce(lambda a, b: a * b)\n",
        "\n",
        "    return resultado"
      ],
      "metadata": {
        "id": "i80AYXWXmoCr"
      },
      "execution_count": 42,
      "outputs": []
    },
    {
      "cell_type": "code",
      "source": [
        "n = 12\n",
        "print(f\"El factorial de {n} es: {factorial(n)}\")"
      ],
      "metadata": {
        "colab": {
          "base_uri": "https://localhost:8080/"
        },
        "id": "dBQJO6K1m7kH",
        "outputId": "7c3f6aa2-83d4-473f-de50-87e0a566a08d"
      },
      "execution_count": 50,
      "outputs": [
        {
          "output_type": "stream",
          "name": "stdout",
          "text": [
            "El factorial de 12 es: 479001600\n"
          ]
        }
      ]
    }
  ]
}