{
  "nbformat": 4,
  "nbformat_minor": 0,
  "metadata": {
    "colab": {
      "provenance": [],
      "authorship_tag": "ABX9TyPOEcnxBxoUGid3qr4Aa00d",
      "include_colab_link": true
    },
    "kernelspec": {
      "name": "python3",
      "display_name": "Python 3"
    },
    "language_info": {
      "name": "python"
    }
  },
  "cells": [
    {
      "cell_type": "markdown",
      "metadata": {
        "id": "view-in-github",
        "colab_type": "text"
      },
      "source": [
        "<a href=\"https://colab.research.google.com/github/LionardoGomiz/Apache-Spark/blob/L/FuncionFlatMap.ipynb\" target=\"_parent\"><img src=\"https://colab.research.google.com/assets/colab-badge.svg\" alt=\"Open In Colab\"/></a>"
      ]
    },
    {
      "cell_type": "code",
      "execution_count": null,
      "metadata": {
        "id": "CeDwon2YQibg"
      },
      "outputs": [],
      "source": [
        "!pip install -q findspark"
      ]
    },
    {
      "cell_type": "code",
      "source": [
        "!pip install -q pyspark"
      ],
      "metadata": {
        "id": "uwolm_iWQvTK"
      },
      "execution_count": null,
      "outputs": []
    },
    {
      "cell_type": "code",
      "source": [
        "import findspark\n",
        "findspark.init()\n",
        "\n",
        "from pyspark.sql import SparkSession\n",
        "\n",
        "spark = SparkSession.builder.getOrCreate()\n",
        "sc = spark.sparkContext"
      ],
      "metadata": {
        "id": "CCnrwGXAQ228"
      },
      "execution_count": null,
      "outputs": []
    },
    {
      "cell_type": "code",
      "source": [
        "#Crear un RDD distribuyendo la lista lcal en particiones paralelas\n",
        "rdd = sc.parallelize([1,2,3,4,5])"
      ],
      "metadata": {
        "collapsed": true,
        "id": "A4UNB6OoKrs7"
      },
      "execution_count": null,
      "outputs": []
    },
    {
      "cell_type": "code",
      "source": [
        "rdd_cuadrado = rdd.map(lambda x: (x, x** 2))\n",
        "rdd_cuadrado.collect()"
      ],
      "metadata": {
        "colab": {
          "base_uri": "https://localhost:8080/"
        },
        "id": "8RjBDIqxQ6nM",
        "outputId": "2a7b693a-ad14-467e-d732-37c4bf593ed8"
      },
      "execution_count": null,
      "outputs": [
        {
          "output_type": "execute_result",
          "data": {
            "text/plain": [
              "[(1, 1), (2, 4), (3, 9), (4, 16), (5, 25)]"
            ]
          },
          "metadata": {},
          "execution_count": 8
        }
      ]
    },
    {
      "cell_type": "code",
      "source": [
        "rdd_cuadrado_flat = rdd.flatMap(lambda x :(x,x**2))\n",
        "rdd_cuadrado_flat.collect()"
      ],
      "metadata": {
        "colab": {
          "base_uri": "https://localhost:8080/"
        },
        "id": "G0u2h1KlRgwB",
        "outputId": "55b27398-8067-4f16-a7ce-40834851dbc4"
      },
      "execution_count": null,
      "outputs": [
        {
          "output_type": "execute_result",
          "data": {
            "text/plain": [
              "[1, 1, 2, 4, 3, 9, 4, 16, 5, 25]"
            ]
          },
          "metadata": {},
          "execution_count": 9
        }
      ]
    },
    {
      "cell_type": "code",
      "source": [
        "rdd_texto = sc.parallelize(['jota', 'jose', 'wanda'])"
      ],
      "metadata": {
        "id": "AWj1rdvCR0Yc"
      },
      "execution_count": null,
      "outputs": []
    },
    {
      "cell_type": "code",
      "source": [
        "rdd_mayuscula = rdd_texto.flatMap(lambda x: (x,x.upper()))\n",
        "rdd_mayuscula.collect()"
      ],
      "metadata": {
        "colab": {
          "base_uri": "https://localhost:8080/"
        },
        "id": "2rmhx3KsSO40",
        "outputId": "3d92c9a7-961c-4a06-ffea-3d735d17eaa8"
      },
      "execution_count": null,
      "outputs": [
        {
          "output_type": "execute_result",
          "data": {
            "text/plain": [
              "['jota', 'JOTA', 'jose', 'JOSE', 'wanda', 'WANDA']"
            ]
          },
          "metadata": {},
          "execution_count": 16
        }
      ]
    }
  ]
}