{
  "nbformat": 4,
  "nbformat_minor": 0,
  "metadata": {
    "colab": {
      "provenance": [],
      "authorship_tag": "ABX9TyNHKxGukbxbZtRcb8w271AJ",
      "include_colab_link": true
    },
    "kernelspec": {
      "name": "python3",
      "display_name": "Python 3"
    },
    "language_info": {
      "name": "python"
    }
  },
  "cells": [
    {
      "cell_type": "markdown",
      "metadata": {
        "id": "view-in-github",
        "colab_type": "text"
      },
      "source": [
        "<a href=\"https://colab.research.google.com/github/LionardoGomiz/Apache-Spark/blob/L/DiferentesFormasDeCrearUnRDD.ipynb\" target=\"_parent\"><img src=\"https://colab.research.google.com/assets/colab-badge.svg\" alt=\"Open In Colab\"/></a>"
      ]
    },
    {
      "cell_type": "code",
      "execution_count": 2,
      "metadata": {
        "id": "skJtK2H1wrML"
      },
      "outputs": [],
      "source": [
        "!pip install -q findspark"
      ]
    },
    {
      "cell_type": "code",
      "source": [
        "!pip install -q pyspark"
      ],
      "metadata": {
        "id": "psgAmNjrwzBK"
      },
      "execution_count": 3,
      "outputs": []
    },
    {
      "cell_type": "code",
      "source": [
        "import findspark\n",
        "\n",
        "findspark.init()\n",
        "\n",
        "from pyspark.sql import SparkSession\n",
        "\n",
        "spark = SparkSession.builder.getOrCreate()\n"
      ],
      "metadata": {
        "id": "ASA_THKOwzMY"
      },
      "execution_count": 4,
      "outputs": []
    },
    {
      "cell_type": "code",
      "source": [
        "sc = spark.sparkContext\n",
        "# 'spark.sparkContext' (sparkContext): la conexión de bajo nivel con el clúster/ejecutor\n",
        "# Desde 'sc' creamos RDDs, gestionamos configuraciones básicas."
      ],
      "metadata": {
        "id": "WPj1E0VayQPo"
      },
      "execution_count": 5,
      "outputs": []
    },
    {
      "cell_type": "code",
      "source": [
        "# Crear un RDD vacío\n",
        "rdd_vacio = sc.emptyRDD()"
      ],
      "metadata": {
        "id": "K6OiD2Rk3376"
      },
      "execution_count": 6,
      "outputs": []
    },
    {
      "cell_type": "code",
      "source": [
        "# Crear un RDD con parallelize\n",
        "rdd_vacio3 = sc.parallelize([], 3)\n",
        "# 'sc.parallelize(data, numSlices)': crear un RDD a partir de una colección local de python\n",
        "#   data = [] (lista vacía) -> RDD vacío\n",
        "#   numSlices = 3 -> número de particiones (split del RDD en 3 fragmentos para paralelismo)"
      ],
      "metadata": {
        "id": "IczaTKxb39z6"
      },
      "execution_count": 7,
      "outputs": []
    },
    {
      "cell_type": "code",
      "source": [
        "# Crear un RDD vacío\n",
        "rdd_vacio3.getNumPartitions()\n"
      ],
      "metadata": {
        "id": "tSyDf5vS4OVt",
        "colab": {
          "base_uri": "https://localhost:8080/"
        },
        "outputId": "4c3f98fe-0e9f-41da-ace1-76acb153d297"
      },
      "execution_count": 8,
      "outputs": [
        {
          "output_type": "execute_result",
          "data": {
            "text/plain": [
              "3"
            ]
          },
          "metadata": {},
          "execution_count": 8
        }
      ]
    },
    {
      "cell_type": "code",
      "source": [
        "rdd = sc.parallelize([1,2,3,4,5])\n",
        "rdd.collect()\n",
        "# Acción collect(): trae todos los elementos del RDD al driver como una lista de python"
      ],
      "metadata": {
        "colab": {
          "base_uri": "https://localhost:8080/"
        },
        "id": "Lm7NN0IS51yi",
        "outputId": "79075c1d-f1a9-4b6a-be80-08f1398aeffb"
      },
      "execution_count": 9,
      "outputs": [
        {
          "output_type": "execute_result",
          "data": {
            "text/plain": [
              "[1, 2, 3, 4, 5]"
            ]
          },
          "metadata": {},
          "execution_count": 9
        }
      ]
    },
    {
      "cell_type": "code",
      "source": [
        "# Crear un RDD desde un archivo de texto\n",
        "rdd_texto = sc.textFile('rdd_source.txt')\n",
        "# 'sc.textFile(path)': leer un archivo(s) de texto y produce un RDD de strings\n",
        "# (cada línea es un elemento).\n"
      ],
      "metadata": {
        "id": "Dnfzynfy6HZJ"
      },
      "execution_count": 13,
      "outputs": []
    },
    {
      "cell_type": "code",
      "source": [
        "rdd_texto.collect()"
      ],
      "metadata": {
        "collapsed": true,
        "id": "O8PNuIhTBEgR"
      },
      "execution_count": null,
      "outputs": []
    },
    {
      "cell_type": "code",
      "source": [
        "rdd_texto_completo = sc.wholeTextFiles('rdd_source.txt')"
      ],
      "metadata": {
        "id": "5-qGJDcCCqvb"
      },
      "execution_count": null,
      "outputs": []
    },
    {
      "cell_type": "code",
      "source": [
        "rdd_texto_completo.collect()"
      ],
      "metadata": {
        "id": "y4dvGxpzCiUU"
      },
      "execution_count": null,
      "outputs": []
    },
    {
      "cell_type": "code",
      "source": [
        "rdd_suma = rdd.map(lambda x: x+1)\n",
        "# 'map' (transformación): aplica una función a cada elemento del RDD y devuelve un nuevo RDD\n",
        "# 'lambda': define una función anónima; aquí recibe 'x' y devuelve 'x+1'\n"
      ],
      "metadata": {
        "id": "ofIUO-GPD5Cs"
      },
      "execution_count": 15,
      "outputs": []
    },
    {
      "cell_type": "code",
      "source": [
        "rdd_suma.collect()"
      ],
      "metadata": {
        "id": "U-d6g1mcD5LL",
        "outputId": "158ce616-6be6-4b0e-ade0-f3b1a64a83f8",
        "colab": {
          "base_uri": "https://localhost:8080/"
        }
      },
      "execution_count": 18,
      "outputs": [
        {
          "output_type": "execute_result",
          "data": {
            "text/plain": [
              "[2, 3, 4, 5, 6]"
            ]
          },
          "metadata": {},
          "execution_count": 18
        }
      ]
    },
    {
      "cell_type": "code",
      "source": [
        "df = spark.createDataFrame([(1, 'Jose'), (2, 'Juan')], ['id', 'nombre'])\n",
        "# spark.createDataFrame(data, schema)\n",
        "# data: lista de tuplas -> Filas\n",
        "# schema: lista de nombres de columnas ['id', 'nombre']\n",
        "# DataFrame: abstracción tabular (como una tabla SQL) construida sobre RDDs"
      ],
      "metadata": {
        "id": "oNnmp6rGGYYo"
      },
      "execution_count": 17,
      "outputs": []
    },
    {
      "cell_type": "code",
      "source": [
        "df.show()"
      ],
      "metadata": {
        "id": "3IDqQaRPGZLL",
        "outputId": "09b2f5f6-adc3-4b55-a273-b538079068e1",
        "colab": {
          "base_uri": "https://localhost:8080/"
        }
      },
      "execution_count": 19,
      "outputs": [
        {
          "output_type": "stream",
          "name": "stdout",
          "text": [
            "+---+------+\n",
            "| id|nombre|\n",
            "+---+------+\n",
            "|  1|  Jose|\n",
            "|  2|  Juan|\n",
            "+---+------+\n",
            "\n"
          ]
        }
      ]
    }
  ]
}